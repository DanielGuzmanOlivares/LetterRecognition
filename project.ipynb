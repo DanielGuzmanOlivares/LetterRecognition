{
 "cells": [
  {
   "cell_type": "code",
   "execution_count": 41,
   "metadata": {},
   "outputs": [],
   "source": [
    "import os\n",
    "from PIL import Image,ImageEnhance\n",
    "import pandas as pd\n",
    "import numpy as np"
   ]
  },
  {
   "cell_type": "code",
   "execution_count": 42,
   "metadata": {},
   "outputs": [],
   "source": [
    "#Variables\n",
    "\n",
    "dataDir = \"./data/out/\""
   ]
  },
  {
   "cell_type": "code",
   "execution_count": 44,
   "metadata": {},
   "outputs": [],
   "source": [
    "files = os.listdir(dataDir)\n",
    "l = []\n",
    "for file in files:\n",
    "    with open(dataDir+file,\"rb\") as f:\n",
    "        im = Image.open(dataDir+file)\n",
    "        enhancer = ImageEnhance.Contrast(im)\n",
    "        im = enhancer.enhance(4.0)\n",
    "        label = file.split(\"_\")[1].split(\".\")[0]\n",
    "        l.append([np.array(im),label])\n",
    "df = pd.DataFrame(l)\n",
    "\n",
    "    \n",
    "    "
   ]
  },
  {
   "cell_type": "code",
   "execution_count": 45,
   "metadata": {},
   "outputs": [
    {
     "name": "stdout",
     "output_type": "stream",
     "text": [
      "CHECKING SUCCESSFUL\n"
     ]
    }
   ],
   "source": [
    "#check every image has the same shape\n",
    "\n",
    "shape = df[0][0].shape\n",
    "for row in range(df.shape[0]): #every row\n",
    "    if df[0][row].shape != shape:\n",
    "        print(\"ERROR IN ROW:\",row,\"SHAPE:\",df[0][row].shape,\"EXPECTED:\",shape)\n",
    "print(\"CHECKING SUCCESSFUL\")"
   ]
  },
  {
   "cell_type": "code",
   "execution_count": 47,
   "metadata": {},
   "outputs": [],
   "source": [
    "#To see image\n",
    "w, h = df[0][0].shape\n",
    "data = np.zeros((h, w, 3), dtype=np.uint8)\n",
    "data[0:256, 0:256] = [255, 0, 0] # red patch in upper left\n",
    "img = Image.fromarray(df[0][0])\n",
    "img.show()"
   ]
  },
  {
   "cell_type": "code",
   "execution_count": null,
   "metadata": {},
   "outputs": [],
   "source": []
  }
 ],
 "metadata": {
  "kernelspec": {
   "display_name": "Python 3",
   "language": "python",
   "name": "python3"
  },
  "language_info": {
   "codemirror_mode": {
    "name": "ipython",
    "version": 3
   },
   "file_extension": ".py",
   "mimetype": "text/x-python",
   "name": "python",
   "nbconvert_exporter": "python",
   "pygments_lexer": "ipython3",
   "version": "3.7.4"
  }
 },
 "nbformat": 4,
 "nbformat_minor": 2
}
